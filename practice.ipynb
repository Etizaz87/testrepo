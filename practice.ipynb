{
  "metadata": {
    "kernelspec": {
      "name": "python",
      "display_name": "Python (Pyodide)",
      "language": "python"
    },
    "language_info": {
      "codemirror_mode": {
        "name": "python",
        "version": 3
      },
      "file_extension": ".py",
      "mimetype": "text/x-python",
      "name": "python",
      "nbconvert_exporter": "python",
      "pygments_lexer": "ipython3",
      "version": "3.8"
    }
  },
  "nbformat_minor": 4,
  "nbformat": 4,
  "cells": [
    {
      "cell_type": "code",
      "source": "import re\npattern = r\"\\d\\d\\d\\d\\d\\d\\d\\d\\d\\d\"\ntext = \"My phone number is 1234567890\"\nmatch = re.search(pattern, text)\nif match:\n    print(\"Phone number found:\",match.group())\nelse:\n    print(\"Phone number not found.\")",
      "metadata": {
        "trusted": true
      },
      "outputs": [
        {
          "name": "stdout",
          "text": "Phone number found: 1234567890\n",
          "output_type": "stream"
        }
      ],
      "execution_count": 3
    },
    {
      "cell_type": "code",
      "source": "s1= r\"\\D\\D\\D\\D\\D\\D\"\nmatch = re.search(s1,text)\nif match:\n    print(\"Text found is:\",match.group())\nelse:\n    print(\"Text not found:\")",
      "metadata": {
        "trusted": true
      },
      "outputs": [
        {
          "name": "stdout",
          "text": "Text found is: My pho\n",
          "output_type": "stream"
        }
      ],
      "execution_count": 7
    },
    {
      "cell_type": "code",
      "source": "s1=r\"\\W\"\ntext = \"Hello, World!\"\nmatches = re.findall(s1,text)\nprint(matches)",
      "metadata": {
        "trusted": true
      },
      "outputs": [
        {
          "name": "stdout",
          "text": "[',', ' ', '!']\n",
          "output_type": "stream"
        }
      ],
      "execution_count": 10
    },
    {
      "cell_type": "code",
      "source": "s2=\"Pakistan is the best country in whole world\"\nresult=re.findall(\"st\",s2)\nprint(result)\n",
      "metadata": {
        "trusted": true
      },
      "outputs": [
        {
          "name": "stdout",
          "text": "['st', 'st']\n",
          "output_type": "stream"
        }
      ],
      "execution_count": 11
    },
    {
      "cell_type": "code",
      "source": "s3=\"user1234,user5678\"\nresult1=re.search(r\"user\\d+\",s3)\nprint(result1)",
      "metadata": {
        "trusted": true
      },
      "outputs": [
        {
          "name": "stdout",
          "text": "<re.Match object; span=(0, 8), match='user1234'>\n",
          "output_type": "stream"
        }
      ],
      "execution_count": 13
    },
    {
      "cell_type": "code",
      "source": "s3=\"user1234,user5678\"\nresult1=re.findall(r\"user\\d+\",s3)\nprint(result1)",
      "metadata": {
        "trusted": true
      },
      "outputs": [
        {
          "name": "stdout",
          "text": "['user1234', 'user5678']\n",
          "output_type": "stream"
        }
      ],
      "execution_count": 14
    },
    {
      "cell_type": "code",
      "source": "s3=\"user1234 , user5678\"\nresult1=re.search(r\"\\s\",s3)\nprint(result1)",
      "metadata": {
        "trusted": true
      },
      "outputs": [
        {
          "name": "stdout",
          "text": "<re.Match object; span=(8, 9), match=' '>\n",
          "output_type": "stream"
        }
      ],
      "execution_count": 16
    },
    {
      "cell_type": "code",
      "source": "s3=\"user1234 , user5678\"\nresult1=re.search(r\"\\S\\S\\S\\S\\S\\S\\S\\S\",s3)\nprint(result1)",
      "metadata": {
        "trusted": true
      },
      "outputs": [
        {
          "name": "stdout",
          "text": "<re.Match object; span=(0, 8), match='user1234'>\n",
          "output_type": "stream"
        }
      ],
      "execution_count": 23
    },
    {
      "cell_type": "code",
      "source": "s3=\"user1234 , user5678\"\nresult1=re.split(r\"\\s\",s3)\nprint(result1)",
      "metadata": {
        "trusted": true
      },
      "outputs": [
        {
          "name": "stdout",
          "text": "['user1234', ',', 'user5678']\n",
          "output_type": "stream"
        }
      ],
      "execution_count": 24
    },
    {
      "cell_type": "code",
      "source": "s4 = \"The BodyGuard is the best album of Whitney Huston\"\npattern = r\"Whitney Huston\"\nreplace = \"legends\"\ns5 = re.sub(pattern, replace , s4, flags=re.IGNORECASE)\nprint(s5)",
      "metadata": {
        "trusted": true
      },
      "outputs": [
        {
          "name": "stdout",
          "text": "The BodyGuard is the best album of legends\n",
          "output_type": "stream"
        }
      ],
      "execution_count": 34
    },
    {
      "cell_type": "code",
      "source": "'5'+'6'",
      "metadata": {
        "trusted": true
      },
      "outputs": [
        {
          "execution_count": 35,
          "output_type": "execute_result",
          "data": {
            "text/plain": "'56'"
          },
          "metadata": {}
        }
      ],
      "execution_count": 35
    },
    {
      "cell_type": "code",
      "source": "str(1)+str(1)",
      "metadata": {
        "trusted": true
      },
      "outputs": [
        {
          "execution_count": 36,
          "output_type": "execute_result",
          "data": {
            "text/plain": "'11'"
          },
          "metadata": {}
        }
      ],
      "execution_count": 36
    },
    {
      "cell_type": "code",
      "source": "",
      "metadata": {
        "trusted": true
      },
      "outputs": [],
      "execution_count": null
    }
  ]
}